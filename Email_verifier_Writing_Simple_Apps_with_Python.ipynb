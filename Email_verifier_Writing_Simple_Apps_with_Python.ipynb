{
  "nbformat": 4,
  "nbformat_minor": 0,
  "metadata": {
    "colab": {
      "name": "Email verifier Writing Simple Apps with Python.ipynb",
      "provenance": [],
      "collapsed_sections": [],
      "authorship_tag": "ABX9TyNOWPdXLc9MxIR1mxO/yUpa",
      "include_colab_link": true
    },
    "kernelspec": {
      "name": "python3",
      "display_name": "Python 3"
    },
    "language_info": {
      "name": "python"
    }
  },
  "cells": [
    {
      "cell_type": "markdown",
      "metadata": {
        "id": "view-in-github",
        "colab_type": "text"
      },
      "source": [
        "<a href=\"https://colab.research.google.com/github/areegtarek/Data-Insight/blob/main/Email_verifier_Writing_Simple_Apps_with_Python.ipynb\" target=\"_parent\"><img src=\"https://colab.research.google.com/assets/colab-badge.svg\" alt=\"Open In Colab\"/></a>"
      ]
    },
    {
      "cell_type": "markdown",
      "metadata": {
        "id": "hhTPfTIBmHDE"
      },
      "source": [
        "# **Email verifier, which checks an email for the @ symbol.**"
      ]
    },
    {
      "cell_type": "code",
      "metadata": {
        "colab": {
          "base_uri": "https://localhost:8080/"
        },
        "id": "L2JWCbzhkVj-",
        "outputId": "d9c56cac-50a7-43f9-df50-34bfb44aa336"
      },
      "source": [
        "#Using \"re\" package\n",
        "import re   \n",
        "  \n",
        "regex = '^[a-z0-9]+[\\._]?[a-z0-9]+[@]\\w+[.]\\w{2,3}$'  \n",
        "  \n",
        "def check(email):   \n",
        "  \n",
        "    if(re.search(regex,email)):   \n",
        "        print(\"Valid Email\")   \n",
        "    else:   \n",
        "        print(\"Invalid Email\")   \n",
        "      \n",
        "if __name__ == '__main__' :   \n",
        "      \n",
        "    email = input(\"Enter your mail\") \n",
        "    check(email)   \n",
        "  \n",
        "    "
      ],
      "execution_count": null,
      "outputs": [
        {
          "output_type": "stream",
          "name": "stdout",
          "text": [
            "Enter your mail\n",
            "Invalid Email\n"
          ]
        }
      ]
    }
  ]
}