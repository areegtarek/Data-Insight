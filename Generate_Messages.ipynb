{
  "nbformat": 4,
  "nbformat_minor": 0,
  "metadata": {
    "colab": {
      "name": "Generate Messages",
      "provenance": [],
      "authorship_tag": "ABX9TyNwqCIcQ29PyUuYiiQMcSm0",
      "include_colab_link": true
    },
    "kernelspec": {
      "name": "python3",
      "display_name": "Python 3"
    },
    "language_info": {
      "name": "python"
    }
  },
  "cells": [
    {
      "cell_type": "markdown",
      "metadata": {
        "id": "view-in-github",
        "colab_type": "text"
      },
      "source": [
        "<a href=\"https://colab.research.google.com/github/areegtarek/Data-Insight/blob/main/Generate_Messages.ipynb\" target=\"_parent\"><img src=\"https://colab.research.google.com/assets/colab-badge.svg\" alt=\"Open In Colab\"/></a>"
      ]
    },
    {
      "cell_type": "markdown",
      "metadata": {
        "id": "Nd5iO7WG4h3_"
      },
      "source": [
        "# **Generate Messages**"
      ]
    },
    {
      "cell_type": "markdown",
      "metadata": {
        "id": "IcmyQ-0n4mkq"
      },
      "source": [
        "Imagine you're a teacher who needs to send a message to each of your students reminding them of their missing assignments and grade in the class. You have each of their names, number of missing assignments, and grades on a spreadsheet and just have to insert them into placeholders in this message you came up with:\n",
        "\n",
        "      Hi [insert student name],\n",
        "\n",
        "      This is a reminder that you have [insert number of missing assignments]\n",
        "      assignments left to submit before you can graduate. Your current grade is\n",
        "      [insert current grade] and can increase to [insert potential grade]\n",
        "      if you submit all assignments before the due date.\n",
        "\n",
        "You can just copy and paste this message to each student and manually insert the appropriate values each time, but instead you're going to write a program that does this for you.\n",
        "\n",
        "Write a script that does the following:\n",
        "\n",
        "\n",
        "1.   Ask for user input 3 times. Once for a list of names, once for a list of missing assignment counts, and once for a list of grades. Use this input to create lists for names, assignments, and grades\n",
        "2.   Use a loop to print the message for each student with the correct values. The potential grade is simply the current grade added to two times the number of missing assignments\n",
        "\n",
        "\n"
      ]
    },
    {
      "cell_type": "code",
      "metadata": {
        "id": "DOZzVLi73vo1"
      },
      "source": [
        "names = input(\"Enter names separated by commas: \").title().split(\",\")\n",
        "assignments = input(\"Enter assignment counts separated by commas: \").split(\",\")\n",
        "grades = input(\"Enter grades separated by commas: \").split(\",\")\n",
        "\n",
        "message = \"Hi {},\\n\\nThis is a reminder that you have {} assignments left to \\\n",
        "submit before you can graduate. You're current grade is {} and can increase \\\n",
        "to {} if you submit all assignments before the due date.\\n\\n\"\n",
        "\n",
        "for name, assignment, grade in zip(names, assignments, grades):\n",
        "    print(message.format(name, assignment, grade, int(grade) + int(assignment)*2))"
      ],
      "execution_count": null,
      "outputs": []
    }
  ]
}