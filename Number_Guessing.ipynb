{
  "nbformat": 4,
  "nbformat_minor": 0,
  "metadata": {
    "colab": {
      "name": "Number Guessing.ipynb",
      "provenance": [],
      "authorship_tag": "ABX9TyM9zynRBklzal5F1OLVrwxd",
      "include_colab_link": true
    },
    "kernelspec": {
      "name": "python3",
      "display_name": "Python 3"
    },
    "language_info": {
      "name": "python"
    }
  },
  "cells": [
    {
      "cell_type": "markdown",
      "metadata": {
        "id": "view-in-github",
        "colab_type": "text"
      },
      "source": [
        "<a href=\"https://colab.research.google.com/github/areegtarek/Data-Insight/blob/main/Number_Guessing.ipynb\" target=\"_parent\"><img src=\"https://colab.research.google.com/assets/colab-badge.svg\" alt=\"Open In Colab\"/></a>"
      ]
    },
    {
      "cell_type": "markdown",
      "metadata": {
        "id": "ugamP2lnJhxs"
      },
      "source": [
        "![number-guessing.png](data:image/png;base64,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)"
      ]
    },
    {
      "cell_type": "markdown",
      "metadata": {
        "id": "8cTznaFeJwqI"
      },
      "source": [
        "This project is an exciting fun game for beginners to build up. The program generates a random number from 1 to 10, or 1 to 100 any range that is specified and the user must guess the number after a hint from the computer. Every time a user’s guess is wrong they are prompted with more hints to make it easier for them to guess the number but at the cost of reducing the score. The clue any math clue like multiples, divisible, greater or smaller, or a combination of all. \n",
        "\n",
        "The program also requires functions to check if an actual number is entered by the user or not, to compare the input number with the actual number, to find the difference between the two numbers."
      ]
    },
    {
      "cell_type": "code",
      "metadata": {
        "id": "stz-jBrbGAXT",
        "colab": {
          "base_uri": "https://localhost:8080/"
        },
        "outputId": "b3fbeadf-b2a0-4bba-8f3c-e5f60ba30f32"
      },
      "source": [
        "\"\"\" Number Guessing Game\n",
        "----------------------------------------\n",
        "\"\"\"\n",
        "import random\n",
        "attempts_list = []\n",
        "def show_score():\n",
        "    if len(attempts_list) <= 0:\n",
        "        print(\"There is currently no high score, it's yours for the taking!\")\n",
        "    else:\n",
        "        print(\"The current high score is {} attempts\".format(min(attempts_list)))\n",
        "def start_game():\n",
        "    random_number = int(random.randint(1, 10))\n",
        "    print(\"Hello traveler! Welcome to the game of guesses!\")\n",
        "    player_name = input(\"What is your name? \")\n",
        "    wanna_play = input(\"Hi, {}, would you like to play the guessing game? (Enter Yes/No) \".format(player_name))\n",
        "    # Where the show_score function USED to be\n",
        "    attempts = 0\n",
        "    show_score()\n",
        "    while wanna_play.lower() == \"yes\":\n",
        "        try:\n",
        "            guess = input(\"Pick a number between 1 and 10 \")\n",
        "            if int(guess) < 1 or int(guess) > 10:\n",
        "                raise ValueError(\"Please guess a number within the given range\")\n",
        "            if int(guess) == random_number:\n",
        "                print(\"Nice! You got it!\")\n",
        "                attempts += 1\n",
        "                attempts_list.append(attempts)\n",
        "                print(\"It took you {} attempts\".format(attempts))\n",
        "                play_again = input(\"Would you like to play again? (Enter Yes/No) \")\n",
        "                attempts = 0\n",
        "                show_score()\n",
        "                random_number = int(random.randint(1, 10))\n",
        "                if play_again.lower() == \"no\":\n",
        "                    print(\"That's cool, have a good one!\")\n",
        "                    break\n",
        "            elif int(guess) > random_number:\n",
        "                print(\"It's lower\")\n",
        "                attempts += 1\n",
        "            elif int(guess) < random_number:\n",
        "                print(\"It's higher\")\n",
        "                attempts += 1\n",
        "        except ValueError as err:\n",
        "            print(\"Oh no!, that is not a valid value. Try again...\")\n",
        "            print(\"({})\".format(err))\n",
        "    else:\n",
        "        print(\"That's cool, have a good one!\")\n",
        "if __name__ == '__main__':\n",
        "    start_game()"
      ],
      "execution_count": null,
      "outputs": [
        {
          "output_type": "stream",
          "name": "stdout",
          "text": [
            "Hello traveler! Welcome to the game of guesses!\n",
            "What is your name? Areeg\n",
            "Hi, Areeg, would you like to play the guessing game? (Enter Yes/No) yes\n",
            "There is currently no high score, it's yours for the taking!\n",
            "Pick a number between 1 and 10 1\n",
            "It's higher\n",
            "Pick a number between 1 and 10 3\n",
            "Nice! You got it!\n",
            "It took you 2 attempts\n"
          ]
        }
      ]
    }
  ]
}